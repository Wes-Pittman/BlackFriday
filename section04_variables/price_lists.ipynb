{
 "cells": [
  {
   "cell_type": "markdown",
   "id": "77abe6dd",
   "metadata": {},
   "source": [
    "### Fix the Variable Names"
   ]
  },
  {
   "cell_type": "code",
   "execution_count": 2,
   "id": "9e7352af",
   "metadata": {},
   "outputs": [],
   "source": [
    "price_list_2018 = [4.99, 8.99, 17.99, 22.99, 94.99] # A"
   ]
  },
  {
   "cell_type": "code",
   "execution_count": 1,
   "id": "f4cbccf7",
   "metadata": {},
   "outputs": [],
   "source": [
    "price_list_2019 = [5.99, 9.99, 19.99, 24.99, 99.99]  # B"
   ]
  },
  {
   "cell_type": "code",
   "execution_count": 3,
   "id": "156d296d",
   "metadata": {},
   "outputs": [],
   "source": [
    "price_list_2020 = [6.49, 10.49, 19.99, 26.99, 104.99]  #C"
   ]
  },
  {
   "cell_type": "code",
   "execution_count": 4,
   "id": "a373372b",
   "metadata": {},
   "outputs": [
    {
     "name": "stdout",
     "output_type": "stream",
     "text": [
      "os\t price_list_2018\t price_list_2019\t price_list_2020\t sys\t \n",
      "Variable          Type      Data/Info\n",
      "-------------------------------------\n",
      "os                module    <module 'os' from 'c:\\\\Us<...>\\\\Python310\\\\lib\\\\os.py'>\n",
      "price_list_2018   list      n=5\n",
      "price_list_2019   list      n=5\n",
      "price_list_2020   list      n=5\n",
      "sys               module    <module 'sys' (built-in)>\n"
     ]
    }
   ],
   "source": [
    "%who\n",
    "%whos"
   ]
  }
 ],
 "metadata": {
  "kernelspec": {
   "display_name": "Python 3",
   "language": "python",
   "name": "python3"
  },
  "language_info": {
   "codemirror_mode": {
    "name": "ipython",
    "version": 3
   },
   "file_extension": ".py",
   "mimetype": "text/x-python",
   "name": "python",
   "nbconvert_exporter": "python",
   "pygments_lexer": "ipython3",
   "version": "3.10.0"
  },
  "vscode": {
   "interpreter": {
    "hash": "57071bf0904da7bc3ae5b649022999f61e27536cb2d20e97739a67f6dea22693"
   }
  }
 },
 "nbformat": 4,
 "nbformat_minor": 5
}
