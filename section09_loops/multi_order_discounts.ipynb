{
 "cells": [
  {
   "cell_type": "markdown",
   "id": "8d0a6882",
   "metadata": {},
   "source": [
    "### Apply Discounts for Multi-Order Customers\n",
    "\n",
    "We need to apply a 10% discount to every transaction in the list below.\n",
    "\n",
    "Assign the discounted transactions to a new list: `discounted_prices`."
   ]
  },
  {
   "cell_type": "code",
   "execution_count": 16,
   "id": "c8e8c4ee",
   "metadata": {},
   "outputs": [
    {
     "data": {
      "text/plain": [
       "[[1799.94, 29.98, 99.99],\n",
       " [15.98, 119.99],\n",
       " [24.99, 24.99],\n",
       " [649.99, 99.99],\n",
       " [599.99, 399.97]]"
      ]
     },
     "execution_count": 16,
     "metadata": {},
     "output_type": "execute_result"
    }
   ],
   "source": [
    "orders_c00001 = [1799.94, 29.98, 99.99]\n",
    "orders_c00004 = [15.98, 119.99]\n",
    "orders_c00006 = [24.99, 24.99]\n",
    "orders_c00008 = [649.99, 99.99]\n",
    "orders_c00010 = [599.99, 399.97]\n",
    "\n",
    "multi_order_customers = [orders_c00001,orders_c00004,orders_c00006,orders_c00008,orders_c00010]\n",
    "discount_rate = .9\n",
    "multi_order_customers"
   ]
  },
  {
   "cell_type": "code",
   "execution_count": 17,
   "id": "274b47ee",
   "metadata": {
    "scrolled": true
   },
   "outputs": [],
   "source": [
    "discounted_prices = []\n",
    "for customer in multi_order_customers:\n",
    "    customer_discount = []\n",
    "    for purchase in customer:\n",
    "        customer_discount.append(round(purchase * discount_rate,2))\n",
    "    discounted_prices.append(customer_discount)"
   ]
  },
  {
   "cell_type": "code",
   "execution_count": 18,
   "id": "bc2ecc61",
   "metadata": {},
   "outputs": [
    {
     "data": {
      "text/plain": [
       "[[1619.95, 26.98, 89.99],\n",
       " [14.38, 107.99],\n",
       " [22.49, 22.49],\n",
       " [584.99, 89.99],\n",
       " [539.99, 359.97]]"
      ]
     },
     "execution_count": 18,
     "metadata": {},
     "output_type": "execute_result"
    }
   ],
   "source": [
    "discounted_prices"
   ]
  }
 ],
 "metadata": {
  "kernelspec": {
   "display_name": "Python 3",
   "language": "python",
   "name": "python3"
  },
  "language_info": {
   "codemirror_mode": {
    "name": "ipython",
    "version": 3
   },
   "file_extension": ".py",
   "mimetype": "text/x-python",
   "name": "python",
   "nbconvert_exporter": "python",
   "pygments_lexer": "ipython3",
   "version": "3.10.0"
  },
  "vscode": {
   "interpreter": {
    "hash": "57071bf0904da7bc3ae5b649022999f61e27536cb2d20e97739a67f6dea22693"
   }
  }
 },
 "nbformat": 4,
 "nbformat_minor": 5
}
