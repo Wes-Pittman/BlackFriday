{
 "cells": [
  {
   "cell_type": "markdown",
   "id": "9a6ec912",
   "metadata": {},
   "source": [
    "### Calculate Projected Inventory for Each Month\n",
    "\n",
    "We currently have 686 pairs of skis in inventory, and sell 84 each month.\n",
    "\n",
    "Write a program that keeps track of monthly inventory, by subtracting 84 pairs of skis from inventory each month. \n",
    "\n",
    "Your program should print 'At the end of month x, we have y pairs of inventory', where x is the number of months that has gone by and y is the remaining inventory at that month.\n",
    "\n",
    "If inventory goes negative, your program should stop running.\n"
   ]
  },
  {
   "cell_type": "code",
   "execution_count": 7,
   "id": "e1fa21a9",
   "metadata": {},
   "outputs": [],
   "source": [
    "current_inventory = 686\n",
    "monthly_sales = 84\n",
    "month_counter = 0\n"
   ]
  },
  {
   "cell_type": "code",
   "execution_count": 8,
   "id": "fd957674",
   "metadata": {},
   "outputs": [
    {
     "name": "stdout",
     "output_type": "stream",
     "text": [
      "At the end of month 1, we have 602 pairs of inventory\n",
      "At the end of month 2, we have 518 pairs of inventory\n",
      "At the end of month 3, we have 434 pairs of inventory\n",
      "At the end of month 4, we have 350 pairs of inventory\n",
      "At the end of month 5, we have 266 pairs of inventory\n",
      "At the end of month 6, we have 182 pairs of inventory\n",
      "At the end of month 7, we have 98 pairs of inventory\n",
      "At the end of month 8, we have 14 pairs of inventory\n",
      "At the end of month 9, we have -70 pairs of inventory\n"
     ]
    }
   ],
   "source": [
    "while current_inventory > 0:\n",
    "    current_inventory -= 84\n",
    "    month_counter += 1\n",
    "    print(f\"At the end of month {month_counter}, we have {current_inventory} pairs of inventory\")"
   ]
  }
 ],
 "metadata": {
  "kernelspec": {
   "display_name": "Python 3",
   "language": "python",
   "name": "python3"
  },
  "language_info": {
   "codemirror_mode": {
    "name": "ipython",
    "version": 3
   },
   "file_extension": ".py",
   "mimetype": "text/x-python",
   "name": "python",
   "nbconvert_exporter": "python",
   "pygments_lexer": "ipython3",
   "version": "3.10.0"
  },
  "vscode": {
   "interpreter": {
    "hash": "57071bf0904da7bc3ae5b649022999f61e27536cb2d20e97739a67f6dea22693"
   }
  }
 },
 "nbformat": 4,
 "nbformat_minor": 5
}
