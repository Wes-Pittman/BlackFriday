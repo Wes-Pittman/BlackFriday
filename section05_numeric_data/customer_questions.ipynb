{
 "cells": [
  {
   "cell_type": "markdown",
   "id": "302f56b8",
   "metadata": {},
   "source": [
    "###  What are the highest and lowest priced items we sell?\n",
    "\n",
    "Based on the list of prices below. Use Python to determine this."
   ]
  },
  {
   "cell_type": "code",
   "execution_count": 3,
   "id": "5c6e2489",
   "metadata": {},
   "outputs": [],
   "source": [
    "price_list = [129.99, 99.99, 119.19, 99.99, 89.99, 79.99, 49.99]"
   ]
  },
  {
   "cell_type": "markdown",
   "id": "08a76ff6",
   "metadata": {},
   "source": [
    "How much would it cost for a customer to purchase two of every item in the price list?"
   ]
  },
  {
   "cell_type": "code",
   "execution_count": 5,
   "id": "d41b2963",
   "metadata": {},
   "outputs": [
    {
     "data": {
      "text/plain": [
       "1338.26"
      ]
     },
     "execution_count": 5,
     "metadata": {},
     "output_type": "execute_result"
    }
   ],
   "source": [
    "every_item = sum(price_list) * 2\n",
    "every_item"
   ]
  },
  {
   "attachments": {},
   "cell_type": "markdown",
   "id": "27bd59dc",
   "metadata": {},
   "source": [
    "Highest and lowest"
   ]
  },
  {
   "cell_type": "code",
   "execution_count": 10,
   "id": "f8a84a04",
   "metadata": {},
   "outputs": [
    {
     "name": "stdout",
     "output_type": "stream",
     "text": [
      "49.99\n",
      "129.99\n"
     ]
    }
   ],
   "source": [
    "list_min = min(price_list)\n",
    "list_max = max(price_list)\n",
    "\n",
    "print(list_min)\n",
    "print(list_max)"
   ]
  }
 ],
 "metadata": {
  "kernelspec": {
   "display_name": "Python 3",
   "language": "python",
   "name": "python3"
  },
  "language_info": {
   "codemirror_mode": {
    "name": "ipython",
    "version": 3
   },
   "file_extension": ".py",
   "mimetype": "text/x-python",
   "name": "python",
   "nbconvert_exporter": "python",
   "pygments_lexer": "ipython3",
   "version": "3.10.0"
  },
  "vscode": {
   "interpreter": {
    "hash": "57071bf0904da7bc3ae5b649022999f61e27536cb2d20e97739a67f6dea22693"
   }
  }
 },
 "nbformat": 4,
 "nbformat_minor": 5
}
