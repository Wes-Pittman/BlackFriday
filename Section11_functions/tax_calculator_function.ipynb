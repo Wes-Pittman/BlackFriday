{
 "cells": [
  {
   "cell_type": "markdown",
   "id": "260aa780",
   "metadata": {},
   "source": [
    "#### Tax Calculator\n",
    "\n",
    "Write a function that takes a subtotal and a tax rate and returns the total invoice amount.\n",
    "\n",
    "* Tax is equal to subtotal multiplied by the tax rate.\n",
    "* The total is equal to subtotal plus tax."
   ]
  },
  {
   "cell_type": "code",
   "execution_count": 37,
   "id": "6ddc3a19",
   "metadata": {},
   "outputs": [
    {
     "name": "stdout",
     "output_type": "stream",
     "text": [
      "Overwriting tax_calculator.py\n"
     ]
    }
   ],
   "source": [
    "%%writefile tax_calculator.py\n",
    "\n",
    "def tax_calculator(subtotal,tax_rate):\n",
    "    \"\"\"Takes a subtotal and a tax rate and returns the total invoice amount\n",
    "\n",
    "    Args:\n",
    "        subtotal (int): total amount pruchased - applicatable tax rate\n",
    "        tax_rate (int): taxrate for location\n",
    "\n",
    "    Returns:\n",
    "        int : Total of tax and subtotal\n",
    "    \"\"\"\n",
    "    tax = subtotal * tax_rate\n",
    "    total = subtotal * + tax\n",
    "    return total"
   ]
  },
  {
   "cell_type": "code",
   "execution_count": 38,
   "id": "bb359f4b",
   "metadata": {},
   "outputs": [
    {
     "data": {
      "text/plain": [
       "100"
      ]
     },
     "execution_count": 38,
     "metadata": {},
     "output_type": "execute_result"
    }
   ],
   "source": [
    "tax_calculator(100,0)"
   ]
  },
  {
   "cell_type": "code",
   "execution_count": 39,
   "id": "f90239be",
   "metadata": {},
   "outputs": [
    {
     "name": "stdout",
     "output_type": "stream",
     "text": [
      "\u001b[1;31mSignature:\u001b[0m \u001b[0mtax_calculator\u001b[0m\u001b[1;33m(\u001b[0m\u001b[0msubtotal\u001b[0m\u001b[1;33m,\u001b[0m \u001b[0mtax_rate\u001b[0m\u001b[1;33m)\u001b[0m\u001b[1;33m\u001b[0m\u001b[1;33m\u001b[0m\u001b[0m\n",
      "\u001b[1;31mDocstring:\u001b[0m\n",
      "Takes a subtotal and a tax rate and returns the total invoice amount\n",
      "\n",
      "Args:\n",
      "    subtotal (int): total amount pruchased - applicatable tax rate\n",
      "    tax_rate (int): taxrate for location\n",
      "\n",
      "Returns:\n",
      "    int : Total of tax and subtotal\n",
      "\u001b[1;31mFile:\u001b[0m      c:\\users\\pittm\\appdata\\local\\temp\\ipykernel_8052\\1241064758.py\n",
      "\u001b[1;31mType:\u001b[0m      function\n"
     ]
    }
   ],
   "source": [
    "tax_calculator?"
   ]
  }
 ],
 "metadata": {
  "kernelspec": {
   "display_name": "Python 3",
   "language": "python",
   "name": "python3"
  },
  "language_info": {
   "codemirror_mode": {
    "name": "ipython",
    "version": 3
   },
   "file_extension": ".py",
   "mimetype": "text/x-python",
   "name": "python",
   "nbconvert_exporter": "python",
   "pygments_lexer": "ipython3",
   "version": "3.10.0"
  },
  "vscode": {
   "interpreter": {
    "hash": "57071bf0904da7bc3ae5b649022999f61e27536cb2d20e97739a67f6dea22693"
   }
  }
 },
 "nbformat": 4,
 "nbformat_minor": 5
}
