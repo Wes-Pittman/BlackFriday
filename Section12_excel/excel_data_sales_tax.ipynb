{
 "cells": [
  {
   "cell_type": "markdown",
   "id": "53a15102",
   "metadata": {},
   "source": [
    "### Excel Data Sales Tax\n",
    "\n",
    "We need to calculate the sales tax for customer C00010 in the excel workbook 'maven_ski_shop_data'.\n",
    "\n",
    "Their transaction should be in row 'D10'. Apply a sales tax of 8%. \n",
    "\n",
    "First:\n",
    "\n",
    "* Import the openpyxl library.\n",
    "* Then load the workbook 'maven_ski_shop_data.xlsx' into Python (this is in the current section folder).\n",
    "* Finally, assign a name to the 'Orders_Info' worksheet."
   ]
  },
  {
   "cell_type": "code",
   "execution_count": 11,
   "id": "3d9b16c3",
   "metadata": {},
   "outputs": [],
   "source": [
    "import openpyxl as xl\n",
    "import tax_calculator\n",
    "wb = xl.load_workbook(filename='maven_ski_shop_data.xlsx')\n",
    "orders = wb['Orders_Info']"
   ]
  },
  {
   "cell_type": "markdown",
   "id": "29c10cac",
   "metadata": {},
   "source": [
    "### Sales Tax Calculation\n",
    "\n",
    "Ok, you should be ready to go - calculate the sales tax and total for the transaction in cell D10. \n",
    "\n",
    "Remember we already have a tax calculator function to do this! \n",
    "\n",
    "Consider printing your output with a string message!"
   ]
  },
  {
   "cell_type": "code",
   "execution_count": 13,
   "id": "b0e23a96",
   "metadata": {},
   "outputs": [
    {
     "data": {
      "text/plain": [
       "99.99"
      ]
     },
     "execution_count": 13,
     "metadata": {},
     "output_type": "execute_result"
    }
   ],
   "source": [
    "orders['D10'].value"
   ]
  },
  {
   "cell_type": "code",
   "execution_count": 12,
   "id": "9c21f0e8",
   "metadata": {},
   "outputs": [
    {
     "ename": "TypeError",
     "evalue": "'module' object is not callable",
     "output_type": "error",
     "traceback": [
      "\u001b[1;31m---------------------------------------------------------------------------\u001b[0m",
      "\u001b[1;31mTypeError\u001b[0m                                 Traceback (most recent call last)",
      "\u001b[1;32m~\\AppData\\Local\\Temp/ipykernel_2552/960939530.py\u001b[0m in \u001b[0;36m<module>\u001b[1;34m\u001b[0m\n\u001b[1;32m----> 1\u001b[1;33m \u001b[0mtransaction\u001b[0m \u001b[1;33m=\u001b[0m \u001b[0mtax_calculator\u001b[0m\u001b[1;33m(\u001b[0m\u001b[0morders\u001b[0m\u001b[1;33m[\u001b[0m\u001b[1;34m'D10'\u001b[0m\u001b[1;33m]\u001b[0m\u001b[1;33m.\u001b[0m\u001b[0mvalue\u001b[0m\u001b[1;33m,\u001b[0m \u001b[1;36m.08\u001b[0m\u001b[1;33m)\u001b[0m\u001b[1;33m\u001b[0m\u001b[1;33m\u001b[0m\u001b[0m\n\u001b[0m",
      "\u001b[1;31mTypeError\u001b[0m: 'module' object is not callable"
     ]
    }
   ],
   "source": [
    "transaction = tax_calculator(orders['D10'].value, .08)\n"
   ]
  }
 ],
 "metadata": {
  "kernelspec": {
   "display_name": "Python 3",
   "language": "python",
   "name": "python3"
  },
  "language_info": {
   "codemirror_mode": {
    "name": "ipython",
    "version": 3
   },
   "file_extension": ".py",
   "mimetype": "text/x-python",
   "name": "python",
   "nbconvert_exporter": "python",
   "pygments_lexer": "ipython3",
   "version": "3.10.0"
  },
  "vscode": {
   "interpreter": {
    "hash": "57071bf0904da7bc3ae5b649022999f61e27536cb2d20e97739a67f6dea22693"
   }
  }
 },
 "nbformat": 4,
 "nbformat_minor": 5
}
