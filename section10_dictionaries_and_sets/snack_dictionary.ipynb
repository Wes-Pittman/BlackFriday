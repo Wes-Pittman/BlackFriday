{
 "cells": [
  {
   "cell_type": "markdown",
   "id": "6d74af00",
   "metadata": {},
   "source": [
    "### Snack Dictionary\n",
    "\n",
    "Hey, the current snack dictionary is below - thanks for your help with this!\n",
    "\n",
    "Run this first cell to create the `snacks` dictionary."
   ]
  },
  {
   "cell_type": "code",
   "execution_count": 5,
   "id": "5a5784f0",
   "metadata": {},
   "outputs": [],
   "source": [
    "snacks = {\n",
    "    'Sally': 'Popcorn',\n",
    "    'Ricard': 'Chocolate Ice Cream',\n",
    "    'Stuart': 'Apple Pie',\n",
    "    'Jerry': 'Raisins',\n",
    "    'Sierra': 'Peanut Butter Cookies'\n",
    "}"
   ]
  },
  {
   "cell_type": "markdown",
   "id": "4a543a30",
   "metadata": {},
   "source": [
    "Can you lookup Stuart's favorite snack?"
   ]
  },
  {
   "cell_type": "code",
   "execution_count": 6,
   "id": "36f6342a",
   "metadata": {},
   "outputs": [
    {
     "data": {
      "text/plain": [
       "'Apple Pie'"
      ]
     },
     "execution_count": 6,
     "metadata": {},
     "output_type": "execute_result"
    }
   ],
   "source": [
    "snacks['Stuart']"
   ]
  },
  {
   "cell_type": "markdown",
   "id": "e984e2be",
   "metadata": {},
   "source": [
    "Cool, that's one of my favorites too!\n",
    "\n",
    "Can you make the following changes do the dictionary?\n",
    "\n",
    "* Add me - 'Alfie', and my favorite snack, 'Cheese and Crackers'.\n",
    "* Change Jerry's favorite snack to 'Fig Bars'\n",
    "* Finally, remove Sierra, she never worked here, not sure how she got on the list."
   ]
  },
  {
   "cell_type": "code",
   "execution_count": 7,
   "id": "cad0e213",
   "metadata": {},
   "outputs": [],
   "source": [
    "snacks['Alfie'] = 'Cheese and Crackers'\n",
    "snacks['Jerry'] = 'Fig Bars'\n",
    "del snacks['Sierra']"
   ]
  },
  {
   "cell_type": "code",
   "execution_count": 8,
   "id": "5dae2f25",
   "metadata": {},
   "outputs": [
    {
     "data": {
      "text/plain": [
       "{'Sally': 'Popcorn',\n",
       " 'Ricard': 'Chocolate Ice Cream',\n",
       " 'Stuart': 'Apple Pie',\n",
       " 'Jerry': 'Fig Bars',\n",
       " 'Alfie': 'Cheese and Crackers'}"
      ]
     },
     "execution_count": 8,
     "metadata": {},
     "output_type": "execute_result"
    }
   ],
   "source": [
    "snacks"
   ]
  }
 ],
 "metadata": {
  "kernelspec": {
   "display_name": "Python 3",
   "language": "python",
   "name": "python3"
  },
  "language_info": {
   "codemirror_mode": {
    "name": "ipython",
    "version": 3
   },
   "file_extension": ".py",
   "mimetype": "text/x-python",
   "name": "python",
   "nbconvert_exporter": "python",
   "pygments_lexer": "ipython3",
   "version": "3.10.0"
  },
  "vscode": {
   "interpreter": {
    "hash": "57071bf0904da7bc3ae5b649022999f61e27536cb2d20e97739a67f6dea22693"
   }
  }
 },
 "nbformat": 4,
 "nbformat_minor": 5
}
