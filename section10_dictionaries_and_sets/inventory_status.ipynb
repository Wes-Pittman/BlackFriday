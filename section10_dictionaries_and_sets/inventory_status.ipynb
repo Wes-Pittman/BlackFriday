{
 "cells": [
  {
   "cell_type": "markdown",
   "id": "4bd4c63b",
   "metadata": {},
   "source": [
    "### Inventory Status\n",
    "\n",
    "Our products and inventory levels are in the lists below.\n",
    "\n",
    "Run the cell below to create the lists."
   ]
  },
  {
   "cell_type": "code",
   "execution_count": 18,
   "id": "f792cd46",
   "metadata": {},
   "outputs": [],
   "source": [
    "items = ['skis', 'snowboard', 'goggles', 'boots']\n",
    "inventory = [10, 0, 0, 7] "
   ]
  },
  {
   "cell_type": "markdown",
   "id": "00324274",
   "metadata": {},
   "source": [
    "### Inventory Status Dictionary\n",
    "\n",
    "Can you create a dictionary that:\n",
    "\n",
    "* Stores item name as keys\n",
    "* Values are 'sold out' if inventory is 0, and 'in stock' if not?\n",
    "\n",
    "Don't create this by writing out all the key value pairs!\n",
    "\n",
    "Thanks!"
   ]
  },
  {
   "cell_type": "code",
   "execution_count": 19,
   "id": "d3ba4f32",
   "metadata": {},
   "outputs": [],
   "source": [
    "inventory_status = {}\n",
    "inventory_key_value = {}\n",
    "\n",
    "for i, item in enumerate(items):\n",
    "    if inventory[i] == 0:\n",
    "        inventory_status[item] = \"Out of stock\"\n",
    "    else:\n",
    "        inventory_status[item] = \"In Stock\"\n",
    "\n",
    "for i,item in enumerate(items):\n",
    "    inventory_key_value[item] = inventory[i]\n"
   ]
  },
  {
   "cell_type": "code",
   "execution_count": 20,
   "id": "70e0112c",
   "metadata": {},
   "outputs": [
    {
     "data": {
      "text/plain": [
       "{'skis': 'In Stock',\n",
       " 'snowboard': 'Out of stock',\n",
       " 'goggles': 'Out of stock',\n",
       " 'boots': 'In Stock'}"
      ]
     },
     "execution_count": 20,
     "metadata": {},
     "output_type": "execute_result"
    }
   ],
   "source": [
    "inventory_status"
   ]
  },
  {
   "cell_type": "code",
   "execution_count": 21,
   "id": "54401711",
   "metadata": {},
   "outputs": [
    {
     "data": {
      "text/plain": [
       "{'skis': 10, 'snowboard': 0, 'goggles': 0, 'boots': 7}"
      ]
     },
     "execution_count": 21,
     "metadata": {},
     "output_type": "execute_result"
    }
   ],
   "source": [
    "inventory_key_value"
   ]
  }
 ],
 "metadata": {
  "kernelspec": {
   "display_name": "Python 3",
   "language": "python",
   "name": "python3"
  },
  "language_info": {
   "codemirror_mode": {
    "name": "ipython",
    "version": 3
   },
   "file_extension": ".py",
   "mimetype": "text/x-python",
   "name": "python",
   "nbconvert_exporter": "python",
   "pygments_lexer": "ipython3",
   "version": "3.10.0"
  },
  "vscode": {
   "interpreter": {
    "hash": "57071bf0904da7bc3ae5b649022999f61e27536cb2d20e97739a67f6dea22693"
   }
  }
 },
 "nbformat": 4,
 "nbformat_minor": 5
}
