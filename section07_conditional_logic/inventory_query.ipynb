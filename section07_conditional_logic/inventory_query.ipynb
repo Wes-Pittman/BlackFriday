{
 "cells": [
  {
   "cell_type": "markdown",
   "id": "c6a1d267",
   "metadata": {},
   "source": [
    "### Inventory Message\n",
    "\n",
    "Let's add and out of stock flag to our products. \n",
    " \n",
    "* If inventory is negative or 0, print 'OUT OF STOCK'. \n",
    "* If inventory is greater than 0, and less than or equal to 5, print 'Low Stock'. \n",
    "* If inventory is anything else, print 'In Stock'"
   ]
  },
  {
   "cell_type": "code",
   "execution_count": 4,
   "id": "c8ff8eb8",
   "metadata": {},
   "outputs": [],
   "source": [
    "inventory = 3"
   ]
  },
  {
   "cell_type": "code",
   "execution_count": 5,
   "id": "c9255784",
   "metadata": {},
   "outputs": [
    {
     "name": "stdout",
     "output_type": "stream",
     "text": [
      "Low Stock\n"
     ]
    }
   ],
   "source": [
    "if inventory <= 0:\n",
    "    print(\"OUT OF STOCK\")\n",
    "elif inventory <= 5:\n",
    "    print(\"Low Stock\")\n",
    "else:\n",
    "    print(\"In Stock\")"
   ]
  }
 ],
 "metadata": {
  "kernelspec": {
   "display_name": "Python 3",
   "language": "python",
   "name": "python3"
  },
  "language_info": {
   "codemirror_mode": {
    "name": "ipython",
    "version": 3
   },
   "file_extension": ".py",
   "mimetype": "text/x-python",
   "name": "python",
   "nbconvert_exporter": "python",
   "pygments_lexer": "ipython3",
   "version": "3.10.0"
  },
  "vscode": {
   "interpreter": {
    "hash": "57071bf0904da7bc3ae5b649022999f61e27536cb2d20e97739a67f6dea22693"
   }
  }
 },
 "nbformat": 4,
 "nbformat_minor": 5
}
