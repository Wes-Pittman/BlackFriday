{
 "cells": [
  {
   "cell_type": "markdown",
   "id": "44e91623",
   "metadata": {},
   "source": [
    "### Cryptography\n",
    "\n",
    "\n",
    "\n",
    "\n",
    "Hi there! \n",
    "\n",
    "There are five text message below. I've also convieniently pasted the alphabet for you, which we'll need to crack the code.\n",
    "\n",
    "The length of each message represents the letter in the alphabet for each character in the password. "
   ]
  },
  {
   "cell_type": "code",
   "execution_count": 8,
   "id": "dd1db50e",
   "metadata": {},
   "outputs": [],
   "source": [
    "alphabet = 'abcdefghijklmnopqrstuvwxyz'\n",
    "message1 = 'Hello World!'\n",
    "message2 = ''\n",
    "message3 = 'It snowed a lot today'\n",
    "message4 = 'eeee'\n",
    "message5 = 'I love snow!!'"
   ]
  },
  {
   "cell_type": "code",
   "execution_count": 9,
   "id": "ddf31562",
   "metadata": {},
   "outputs": [
    {
     "data": {
      "text/plain": [
       "12"
      ]
     },
     "execution_count": 9,
     "metadata": {},
     "output_type": "execute_result"
    }
   ],
   "source": [
    "len(message1)"
   ]
  },
  {
   "cell_type": "code",
   "execution_count": 14,
   "id": "734d30e3",
   "metadata": {},
   "outputs": [
    {
     "data": {
      "text/plain": [
       "13"
      ]
     },
     "execution_count": 14,
     "metadata": {},
     "output_type": "execute_result"
    }
   ],
   "source": [
    "len(message5)"
   ]
  },
  {
   "cell_type": "code",
   "execution_count": 10,
   "id": "a66fd619",
   "metadata": {},
   "outputs": [
    {
     "data": {
      "text/plain": [
       "4"
      ]
     },
     "execution_count": 10,
     "metadata": {},
     "output_type": "execute_result"
    }
   ],
   "source": [
    "len(message4)"
   ]
  },
  {
   "cell_type": "code",
   "execution_count": 11,
   "id": "5fe0b71c",
   "metadata": {},
   "outputs": [
    {
     "data": {
      "text/plain": [
       "21"
      ]
     },
     "execution_count": 11,
     "metadata": {},
     "output_type": "execute_result"
    }
   ],
   "source": [
    "len(message3)"
   ]
  },
  {
   "cell_type": "code",
   "execution_count": 12,
   "id": "a949e591",
   "metadata": {},
   "outputs": [
    {
     "data": {
      "text/plain": [
       "0"
      ]
     },
     "execution_count": 12,
     "metadata": {},
     "output_type": "execute_result"
    }
   ],
   "source": [
    "len(message2)"
   ]
  },
  {
   "cell_type": "markdown",
   "id": "7aa64328",
   "metadata": {},
   "source": [
    "### Crack the Code\n",
    "\n",
    "In the cell below, combine the characters retrieved using the length function into a single string, and assign that to `password`. Then print the password."
   ]
  },
  {
   "cell_type": "code",
   "execution_count": 15,
   "id": "cd36a182",
   "metadata": {},
   "outputs": [
    {
     "data": {
      "text/plain": [
       "'maven'"
      ]
     },
     "execution_count": 15,
     "metadata": {},
     "output_type": "execute_result"
    }
   ],
   "source": [
    "password = alphabet[12] + alphabet[0] + alphabet[21] + alphabet[4] + alphabet[13]\n",
    "password"
   ]
  },
  {
   "cell_type": "code",
   "execution_count": null,
   "id": "dcca358e",
   "metadata": {},
   "outputs": [],
   "source": []
  }
 ],
 "metadata": {
  "kernelspec": {
   "display_name": "Python 3",
   "language": "python",
   "name": "python3"
  },
  "language_info": {
   "codemirror_mode": {
    "name": "ipython",
    "version": 3
   },
   "file_extension": ".py",
   "mimetype": "text/x-python",
   "name": "python",
   "nbconvert_exporter": "python",
   "pygments_lexer": "ipython3",
   "version": "3.10.0"
  },
  "vscode": {
   "interpreter": {
    "hash": "57071bf0904da7bc3ae5b649022999f61e27536cb2d20e97739a67f6dea22693"
   }
  }
 },
 "nbformat": 4,
 "nbformat_minor": 5
}
